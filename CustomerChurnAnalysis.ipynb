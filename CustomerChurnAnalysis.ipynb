{
 "cells": [
  {
   "cell_type": "markdown",
   "metadata": {},
   "source": [
    "# Import all required libraries"
   ]
  },
  {
   "cell_type": "code",
   "execution_count": 1,
   "metadata": {},
   "outputs": [],
   "source": [
    "import pandas as pd\n",
    "import numpy as np\n",
    "import seaborn as sb\n",
    "from matplotlib import pyplot as plt"
   ]
  },
  {
   "cell_type": "markdown",
   "metadata": {},
   "source": [
    "# Read data from csv file"
   ]
  },
  {
   "cell_type": "code",
   "execution_count": 2,
   "metadata": {},
   "outputs": [
    {
     "data": {
      "text/html": [
       "<div>\n",
       "<style scoped>\n",
       "    .dataframe tbody tr th:only-of-type {\n",
       "        vertical-align: middle;\n",
       "    }\n",
       "\n",
       "    .dataframe tbody tr th {\n",
       "        vertical-align: top;\n",
       "    }\n",
       "\n",
       "    .dataframe thead th {\n",
       "        text-align: right;\n",
       "    }\n",
       "</style>\n",
       "<table border=\"1\" class=\"dataframe\">\n",
       "  <thead>\n",
       "    <tr style=\"text-align: right;\">\n",
       "      <th></th>\n",
       "      <th>customerID</th>\n",
       "      <th>gender</th>\n",
       "      <th>SeniorCitizen</th>\n",
       "      <th>Partner</th>\n",
       "      <th>Dependents</th>\n",
       "      <th>tenure</th>\n",
       "      <th>PhoneService</th>\n",
       "      <th>MultipleLines</th>\n",
       "      <th>InternetService</th>\n",
       "      <th>OnlineSecurity</th>\n",
       "      <th>...</th>\n",
       "      <th>DeviceProtection</th>\n",
       "      <th>TechSupport</th>\n",
       "      <th>StreamingTV</th>\n",
       "      <th>StreamingMovies</th>\n",
       "      <th>Contract</th>\n",
       "      <th>PaperlessBilling</th>\n",
       "      <th>PaymentMethod</th>\n",
       "      <th>MonthlyCharges</th>\n",
       "      <th>TotalCharges</th>\n",
       "      <th>Churn</th>\n",
       "    </tr>\n",
       "  </thead>\n",
       "  <tbody>\n",
       "    <tr>\n",
       "      <th>0</th>\n",
       "      <td>7590-VHVEG</td>\n",
       "      <td>Female</td>\n",
       "      <td>0</td>\n",
       "      <td>Yes</td>\n",
       "      <td>No</td>\n",
       "      <td>1</td>\n",
       "      <td>No</td>\n",
       "      <td>No phone service</td>\n",
       "      <td>DSL</td>\n",
       "      <td>No</td>\n",
       "      <td>...</td>\n",
       "      <td>No</td>\n",
       "      <td>No</td>\n",
       "      <td>No</td>\n",
       "      <td>No</td>\n",
       "      <td>Month-to-month</td>\n",
       "      <td>Yes</td>\n",
       "      <td>Electronic check</td>\n",
       "      <td>29.85</td>\n",
       "      <td>29.85</td>\n",
       "      <td>No</td>\n",
       "    </tr>\n",
       "    <tr>\n",
       "      <th>1</th>\n",
       "      <td>5575-GNVDE</td>\n",
       "      <td>Male</td>\n",
       "      <td>0</td>\n",
       "      <td>No</td>\n",
       "      <td>No</td>\n",
       "      <td>34</td>\n",
       "      <td>Yes</td>\n",
       "      <td>No</td>\n",
       "      <td>DSL</td>\n",
       "      <td>Yes</td>\n",
       "      <td>...</td>\n",
       "      <td>Yes</td>\n",
       "      <td>No</td>\n",
       "      <td>No</td>\n",
       "      <td>No</td>\n",
       "      <td>One year</td>\n",
       "      <td>No</td>\n",
       "      <td>Mailed check</td>\n",
       "      <td>56.95</td>\n",
       "      <td>1889.5</td>\n",
       "      <td>No</td>\n",
       "    </tr>\n",
       "    <tr>\n",
       "      <th>2</th>\n",
       "      <td>3668-QPYBK</td>\n",
       "      <td>Male</td>\n",
       "      <td>0</td>\n",
       "      <td>No</td>\n",
       "      <td>No</td>\n",
       "      <td>2</td>\n",
       "      <td>Yes</td>\n",
       "      <td>No</td>\n",
       "      <td>DSL</td>\n",
       "      <td>Yes</td>\n",
       "      <td>...</td>\n",
       "      <td>No</td>\n",
       "      <td>No</td>\n",
       "      <td>No</td>\n",
       "      <td>No</td>\n",
       "      <td>Month-to-month</td>\n",
       "      <td>Yes</td>\n",
       "      <td>Mailed check</td>\n",
       "      <td>53.85</td>\n",
       "      <td>108.15</td>\n",
       "      <td>Yes</td>\n",
       "    </tr>\n",
       "    <tr>\n",
       "      <th>3</th>\n",
       "      <td>7795-CFOCW</td>\n",
       "      <td>Male</td>\n",
       "      <td>0</td>\n",
       "      <td>No</td>\n",
       "      <td>No</td>\n",
       "      <td>45</td>\n",
       "      <td>No</td>\n",
       "      <td>No phone service</td>\n",
       "      <td>DSL</td>\n",
       "      <td>Yes</td>\n",
       "      <td>...</td>\n",
       "      <td>Yes</td>\n",
       "      <td>Yes</td>\n",
       "      <td>No</td>\n",
       "      <td>No</td>\n",
       "      <td>One year</td>\n",
       "      <td>No</td>\n",
       "      <td>Bank transfer (automatic)</td>\n",
       "      <td>42.30</td>\n",
       "      <td>1840.75</td>\n",
       "      <td>No</td>\n",
       "    </tr>\n",
       "    <tr>\n",
       "      <th>4</th>\n",
       "      <td>9237-HQITU</td>\n",
       "      <td>Female</td>\n",
       "      <td>0</td>\n",
       "      <td>No</td>\n",
       "      <td>No</td>\n",
       "      <td>2</td>\n",
       "      <td>Yes</td>\n",
       "      <td>No</td>\n",
       "      <td>Fiber optic</td>\n",
       "      <td>No</td>\n",
       "      <td>...</td>\n",
       "      <td>No</td>\n",
       "      <td>No</td>\n",
       "      <td>No</td>\n",
       "      <td>No</td>\n",
       "      <td>Month-to-month</td>\n",
       "      <td>Yes</td>\n",
       "      <td>Electronic check</td>\n",
       "      <td>70.70</td>\n",
       "      <td>151.65</td>\n",
       "      <td>Yes</td>\n",
       "    </tr>\n",
       "  </tbody>\n",
       "</table>\n",
       "<p>5 rows × 21 columns</p>\n",
       "</div>"
      ],
      "text/plain": [
       "   customerID  gender  SeniorCitizen Partner Dependents  tenure PhoneService  \\\n",
       "0  7590-VHVEG  Female              0     Yes         No       1           No   \n",
       "1  5575-GNVDE    Male              0      No         No      34          Yes   \n",
       "2  3668-QPYBK    Male              0      No         No       2          Yes   \n",
       "3  7795-CFOCW    Male              0      No         No      45           No   \n",
       "4  9237-HQITU  Female              0      No         No       2          Yes   \n",
       "\n",
       "      MultipleLines InternetService OnlineSecurity  ... DeviceProtection  \\\n",
       "0  No phone service             DSL             No  ...               No   \n",
       "1                No             DSL            Yes  ...              Yes   \n",
       "2                No             DSL            Yes  ...               No   \n",
       "3  No phone service             DSL            Yes  ...              Yes   \n",
       "4                No     Fiber optic             No  ...               No   \n",
       "\n",
       "  TechSupport StreamingTV StreamingMovies        Contract PaperlessBilling  \\\n",
       "0          No          No              No  Month-to-month              Yes   \n",
       "1          No          No              No        One year               No   \n",
       "2          No          No              No  Month-to-month              Yes   \n",
       "3         Yes          No              No        One year               No   \n",
       "4          No          No              No  Month-to-month              Yes   \n",
       "\n",
       "               PaymentMethod MonthlyCharges  TotalCharges Churn  \n",
       "0           Electronic check          29.85         29.85    No  \n",
       "1               Mailed check          56.95        1889.5    No  \n",
       "2               Mailed check          53.85        108.15   Yes  \n",
       "3  Bank transfer (automatic)          42.30       1840.75    No  \n",
       "4           Electronic check          70.70        151.65   Yes  \n",
       "\n",
       "[5 rows x 21 columns]"
      ]
     },
     "execution_count": 2,
     "metadata": {},
     "output_type": "execute_result"
    }
   ],
   "source": [
    "rawData = pd.read_csv(\"../Data/CustomerChurnData/data.csv\")\n",
    "rawData.head(5)"
   ]
  },
  {
   "cell_type": "markdown",
   "metadata": {},
   "source": [
    "# Check if there any null value or not"
   ]
  },
  {
   "cell_type": "code",
   "execution_count": 3,
   "metadata": {},
   "outputs": [
    {
     "data": {
      "text/plain": [
       "customerID          0\n",
       "gender              0\n",
       "SeniorCitizen       0\n",
       "Partner             0\n",
       "Dependents          0\n",
       "tenure              0\n",
       "PhoneService        0\n",
       "MultipleLines       0\n",
       "InternetService     0\n",
       "OnlineSecurity      0\n",
       "OnlineBackup        0\n",
       "DeviceProtection    0\n",
       "TechSupport         0\n",
       "StreamingTV         0\n",
       "StreamingMovies     0\n",
       "Contract            0\n",
       "PaperlessBilling    0\n",
       "PaymentMethod       0\n",
       "MonthlyCharges      0\n",
       "TotalCharges        0\n",
       "Churn               0\n",
       "dtype: int64"
      ]
     },
     "execution_count": 3,
     "metadata": {},
     "output_type": "execute_result"
    }
   ],
   "source": [
    "rawData.isnull().sum()"
   ]
  },
  {
   "cell_type": "markdown",
   "metadata": {},
   "source": [
    "### No nulll values at all"
   ]
  },
  {
   "cell_type": "markdown",
   "metadata": {},
   "source": [
    "# Check the data types of all columns"
   ]
  },
  {
   "cell_type": "code",
   "execution_count": 4,
   "metadata": {},
   "outputs": [
    {
     "name": "stdout",
     "output_type": "stream",
     "text": [
      "<class 'pandas.core.frame.DataFrame'>\n",
      "RangeIndex: 7043 entries, 0 to 7042\n",
      "Data columns (total 21 columns):\n",
      " #   Column            Non-Null Count  Dtype  \n",
      "---  ------            --------------  -----  \n",
      " 0   customerID        7043 non-null   object \n",
      " 1   gender            7043 non-null   object \n",
      " 2   SeniorCitizen     7043 non-null   int64  \n",
      " 3   Partner           7043 non-null   object \n",
      " 4   Dependents        7043 non-null   object \n",
      " 5   tenure            7043 non-null   int64  \n",
      " 6   PhoneService      7043 non-null   object \n",
      " 7   MultipleLines     7043 non-null   object \n",
      " 8   InternetService   7043 non-null   object \n",
      " 9   OnlineSecurity    7043 non-null   object \n",
      " 10  OnlineBackup      7043 non-null   object \n",
      " 11  DeviceProtection  7043 non-null   object \n",
      " 12  TechSupport       7043 non-null   object \n",
      " 13  StreamingTV       7043 non-null   object \n",
      " 14  StreamingMovies   7043 non-null   object \n",
      " 15  Contract          7043 non-null   object \n",
      " 16  PaperlessBilling  7043 non-null   object \n",
      " 17  PaymentMethod     7043 non-null   object \n",
      " 18  MonthlyCharges    7043 non-null   float64\n",
      " 19  TotalCharges      7043 non-null   object \n",
      " 20  Churn             7043 non-null   object \n",
      "dtypes: float64(1), int64(2), object(18)\n",
      "memory usage: 1.1+ MB\n"
     ]
    }
   ],
   "source": [
    "rawData.info()"
   ]
  },
  {
   "cell_type": "markdown",
   "metadata": {},
   "source": [
    "## Everything is fine but TotalCharge column should have float data type\n",
    "## Also check other column data type to ensure it's datatype"
   ]
  },
  {
   "cell_type": "code",
   "execution_count": 5,
   "metadata": {},
   "outputs": [
    {
     "name": "stdout",
     "output_type": "stream",
     "text": [
      "MultipleLines: ['No phone service' 'No' 'Yes']\n",
      "InternetService: ['DSL' 'Fiber optic' 'No']\n",
      "OnlineSecurity: ['No' 'Yes' 'No internet service']\n",
      "OnlineBackup: ['Yes' 'No' 'No internet service']\n",
      "DeviceProtection: ['No' 'Yes' 'No internet service']\n",
      "TechSupport: ['No' 'Yes' 'No internet service']\n",
      "StreamingTV: ['No' 'Yes' 'No internet service']\n",
      "StreamingMovies: ['No' 'Yes' 'No internet service']\n",
      "Contract: ['Month-to-month' 'One year' 'Two year']\n",
      "PaperlessBilling: ['Yes' 'No']\n",
      "PaymentMethod: ['Electronic check' 'Mailed check' 'Bank transfer (automatic)'\n",
      " 'Credit card (automatic)']\n"
     ]
    }
   ],
   "source": [
    "def PrintUniqueValues():\n",
    "    print(\"MultipleLines:\",rawData.MultipleLines.unique())\n",
    "    print(\"InternetService:\",rawData.InternetService.unique())\n",
    "    print(\"OnlineSecurity:\",rawData.OnlineSecurity.unique())\n",
    "    print(\"OnlineBackup:\",rawData.OnlineBackup.unique())\n",
    "    print(\"DeviceProtection:\",rawData.DeviceProtection.unique())\n",
    "    print(\"TechSupport:\",rawData.TechSupport.unique())\n",
    "    print(\"StreamingTV:\",rawData.StreamingTV.unique())\n",
    "    print(\"StreamingMovies:\",rawData.StreamingMovies.unique())\n",
    "    print(\"Contract:\",rawData.Contract.unique())\n",
    "    print(\"PaperlessBilling:\",rawData.PaperlessBilling.unique())\n",
    "    print(\"PaymentMethod:\",rawData.PaymentMethod.unique())\n",
    "PrintUniqueValues()"
   ]
  },
  {
   "cell_type": "markdown",
   "metadata": {},
   "source": [
    "# Change the data type of TotalCharge column\n",
    "## But there is some empty values which can't be convert into float\n",
    "## remove those data points first"
   ]
  },
  {
   "cell_type": "code",
   "execution_count": 6,
   "metadata": {},
   "outputs": [
    {
     "name": "stdout",
     "output_type": "stream",
     "text": [
      "<class 'pandas.core.frame.DataFrame'>\n",
      "Int64Index: 7032 entries, 0 to 7042\n",
      "Data columns (total 21 columns):\n",
      " #   Column            Non-Null Count  Dtype  \n",
      "---  ------            --------------  -----  \n",
      " 0   customerID        7032 non-null   object \n",
      " 1   gender            7032 non-null   object \n",
      " 2   SeniorCitizen     7032 non-null   int64  \n",
      " 3   Partner           7032 non-null   object \n",
      " 4   Dependents        7032 non-null   object \n",
      " 5   tenure            7032 non-null   int64  \n",
      " 6   PhoneService      7032 non-null   object \n",
      " 7   MultipleLines     7032 non-null   object \n",
      " 8   InternetService   7032 non-null   object \n",
      " 9   OnlineSecurity    7032 non-null   object \n",
      " 10  OnlineBackup      7032 non-null   object \n",
      " 11  DeviceProtection  7032 non-null   object \n",
      " 12  TechSupport       7032 non-null   object \n",
      " 13  StreamingTV       7032 non-null   object \n",
      " 14  StreamingMovies   7032 non-null   object \n",
      " 15  Contract          7032 non-null   object \n",
      " 16  PaperlessBilling  7032 non-null   object \n",
      " 17  PaymentMethod     7032 non-null   object \n",
      " 18  MonthlyCharges    7032 non-null   float64\n",
      " 19  TotalCharges      7032 non-null   float64\n",
      " 20  Churn             7032 non-null   object \n",
      "dtypes: float64(2), int64(2), object(17)\n",
      "memory usage: 1.2+ MB\n"
     ]
    }
   ],
   "source": [
    "rawData.drop(rawData[rawData.TotalCharges == \" \"].index,inplace=True)\n",
    "rawData = rawData.astype({\"TotalCharges\":float})\n",
    "rawData.info()"
   ]
  },
  {
   "cell_type": "markdown",
   "metadata": {},
   "source": [
    "## now TotalCharge column has float datatype"
   ]
  },
  {
   "cell_type": "markdown",
   "metadata": {},
   "source": [
    "# We have previously saw that some of columns have thre different values -> Yes,No,No Internet Service\n",
    "## we replace No Internet Service with No in all columns"
   ]
  },
  {
   "cell_type": "code",
   "execution_count": 7,
   "metadata": {},
   "outputs": [
    {
     "name": "stdout",
     "output_type": "stream",
     "text": [
      "MultipleLines: ['No' 'Yes']\n",
      "InternetService: ['DSL' 'Fiber optic' 'No']\n",
      "OnlineSecurity: ['No' 'Yes']\n",
      "OnlineBackup: ['Yes' 'No']\n",
      "DeviceProtection: ['No' 'Yes']\n",
      "TechSupport: ['No' 'Yes']\n",
      "StreamingTV: ['No' 'Yes']\n",
      "StreamingMovies: ['No' 'Yes']\n",
      "Contract: ['Month-to-month' 'One year' 'Two year']\n",
      "PaperlessBilling: ['Yes' 'No']\n",
      "PaymentMethod: ['Electronic check' 'Mailed check' 'Bank transfer (automatic)'\n",
      " 'Credit card (automatic)']\n"
     ]
    }
   ],
   "source": [
    "rawData.MultipleLines.where(rawData.MultipleLines != \"No phone service\",\"No\",inplace=True)\n",
    "rawData.OnlineBackup.where(rawData.OnlineBackup != \"No internet service\",\"No\",inplace=True)\n",
    "rawData.OnlineSecurity.where(rawData.OnlineSecurity != \"No internet service\",\"No\",inplace=True)\n",
    "rawData.DeviceProtection.where(rawData.DeviceProtection != \"No internet service\",\"No\",inplace=True)\n",
    "rawData.TechSupport.where(rawData.TechSupport != \"No internet service\",\"No\",inplace=True)\n",
    "rawData.StreamingTV.where(rawData.StreamingTV != \"No internet service\",\"No\",inplace=True)\n",
    "rawData.StreamingMovies.where(rawData.StreamingMovies != \"No internet service\",\"No\",inplace=True)\n",
    "PrintUniqueValues()"
   ]
  },
  {
   "cell_type": "markdown",
   "metadata": {},
   "source": [
    "# Now check the distribution of dataset"
   ]
  },
  {
   "cell_type": "code",
   "execution_count": 8,
   "metadata": {},
   "outputs": [
    {
     "data": {
      "text/plain": [
       "<matplotlib.axes._subplots.AxesSubplot at 0x289228346a0>"
      ]
     },
     "execution_count": 8,
     "metadata": {},
     "output_type": "execute_result"
    },
    {
     "data": {
      "image/png": "[encoded data removed]",
      "text/plain": [
       "<Figure size 432x288 with 1 Axes>"
      ]
     },
     "metadata": {
      "needs_background": "light"
     },
     "output_type": "display_data"
    }
   ],
   "source": [
    "#print(\"Churn:\",(rawData.Churn == 'Yes').sum())\n",
    "#print(\"Not Churn:\",(rawData.Churn == 'No').sum())\n",
    "sb.histplot(rawData.Churn,stat=\"count\",ax=plt.axes(ylabel=\"No of custumers\"))"
   ]
  },
  {
   "cell_type": "markdown",
   "metadata": {},
   "source": [
    "# So the data is imbalance"
   ]
  },
  {
   "cell_type": "code",
   "execution_count": 9,
   "metadata": {},
   "outputs": [
    {
     "data": {
      "text/plain": [
       "<matplotlib.axes._subplots.AxesSubplot at 0x2892385a820>"
      ]
     },
     "execution_count": 9,
     "metadata": {},
     "output_type": "execute_result"
    },
    {
     "data": {
      "image/png": "[encoded data removed]",
      "text/plain": [
       "<Figure size 432x288 with 1 Axes>"
      ]
     },
     "metadata": {
      "needs_background": "light"
     },
     "output_type": "display_data"
    }
   ],
   "source": [
    "sb.histplot(rawData.InternetService,stat=\"count\",ax=plt.axes(ylabel=\"No of Customers\"))"
   ]
  },
  {
   "cell_type": "markdown",
   "metadata": {},
   "source": [
    "### Most of the customer have Fiber optic service"
   ]
  },
  {
   "cell_type": "markdown",
   "metadata": {},
   "source": [
    "# Now analyse why people leave"
   ]
  },
  {
   "cell_type": "code",
   "execution_count": 10,
   "metadata": {},
   "outputs": [],
   "source": [
    "peopleWhoLeave = rawData[rawData.Churn == \"Yes\"]\n",
    "peoleWhoNotLeave = rawData[rawData.Churn == \"No\"]"
   ]
  },
  {
   "cell_type": "code",
   "execution_count": 11,
   "metadata": {},
   "outputs": [
    {
     "data": {
      "text/plain": [
       "<matplotlib.axes._subplots.AxesSubplot at 0x28923970c70>"
      ]
     },
     "execution_count": 11,
     "metadata": {},
     "output_type": "execute_result"
    },
    {
     "data": {
      "image/png": "[encoded data removed]",
      "text/plain": [
       "<Figure size 432x288 with 1 Axes>"
      ]
     },
     "metadata": {
      "needs_background": "light"
     },
     "output_type": "display_data"
    }
   ],
   "source": [
    "sb.histplot(peopleWhoLeave.InternetService,stat=\"count\",ax=plt.axes(ylabel=\"No of Customers\"))"
   ]
  },
  {
   "cell_type": "markdown",
   "metadata": {},
   "source": [
    "# So people who have fibre optic internet connectivity leave more"
   ]
  },
  {
   "cell_type": "code",
   "execution_count": 12,
   "metadata": {},
   "outputs": [
    {
     "data": {
      "text/plain": [
       "<matplotlib.axes._subplots.AxesSubplot at 0x289239c9640>"
      ]
     },
     "execution_count": 12,
     "metadata": {},
     "output_type": "execute_result"
    },
    {
     "data": {
      "image/png": "[encoded data removed]",
      "text/plain": [
       "<Figure size 432x288 with 1 Axes>"
      ]
     },
     "metadata": {
      "needs_background": "light"
     },
     "output_type": "display_data"
    }
   ],
   "source": [
    "sb.histplot(peopleWhoLeave.tenure,stat=\"count\",ax=plt.axes(ylabel=\"No of Customers\"))"
   ]
  },
  {
   "cell_type": "markdown",
   "metadata": {},
   "source": [
    "# so people who have short time tenure leave more as compare to people who have long tenure"
   ]
  },
  {
   "cell_type": "code",
   "execution_count": 13,
   "metadata": {},
   "outputs": [
    {
     "data": {
      "image/png": "[encoded data removed]",
      "text/plain": [
       "<Figure size 432x288 with 1 Axes>"
      ]
     },
     "metadata": {
      "needs_background": "light"
     },
     "output_type": "display_data"
    }
   ],
   "source": [
    "plt.ylabel(\"Average Total Charges\")\n",
    "plt.bar(x=[\"Fibre\",\"DSL\",\"No\"],height=[peopleWhoLeave[peopleWhoLeave.InternetService == \"Fiber optic\"].TotalCharges.mean(),\n",
    "            peopleWhoLeave[peopleWhoLeave.InternetService == \"DSL\"].TotalCharges.mean(),\n",
    "            peopleWhoLeave[peopleWhoLeave.InternetService == \"No\"].TotalCharges.mean()])\n",
    "plt.show()"
   ]
  },
  {
   "cell_type": "markdown",
   "metadata": {},
   "source": [
    "# And here is the reason why people have fiber optic connetion leave more\n",
    "## These customers have more total charges as compare to other "
   ]
  },
  {
   "cell_type": "markdown",
   "metadata": {},
   "source": [
    "# Lets check why poeple have short tenure leave more "
   ]
  },
  {
   "cell_type": "code",
   "execution_count": 14,
   "metadata": {},
   "outputs": [],
   "source": [
    "shortTenure = peopleWhoLeave[peopleWhoLeave.tenure <= 10]"
   ]
  },
  {
   "cell_type": "code",
   "execution_count": 15,
   "metadata": {},
   "outputs": [
    {
     "data": {
      "text/plain": [
       "<matplotlib.axes._subplots.AxesSubplot at 0x28923a66640>"
      ]
     },
     "execution_count": 15,
     "metadata": {},
     "output_type": "execute_result"
    },
    {
     "data": {
      "image/png": "[encoded data removed]",
      "text/plain": [
       "<Figure size 432x288 with 1 Axes>"
      ]
     },
     "metadata": {
      "needs_background": "light"
     },
     "output_type": "display_data"
    }
   ],
   "source": [
    "sb.histplot(shortTenure.InternetService,stat=\"count\",ax=plt.axes(ylabel=\"No of Customers\"))"
   ]
  },
  {
   "cell_type": "code",
   "execution_count": 16,
   "metadata": {},
   "outputs": [
    {
     "data": {
      "image/png": "[encoded data removed]",
      "text/plain": [
       "<Figure size 432x288 with 1 Axes>"
      ]
     },
     "metadata": {
      "needs_background": "light"
     },
     "output_type": "display_data"
    }
   ],
   "source": [
    "plt.ylabel(\"Average Total Charges\")\n",
    "plt.bar(x=[\"Fibre\",\"DSL\",\"No\"],height=[shortTenure[shortTenure.InternetService == \"Fiber optic\"].TotalCharges.mean(),\n",
    "            shortTenure[shortTenure.InternetService == \"DSL\"].TotalCharges.mean(),\n",
    "            shortTenure[shortTenure.InternetService == \"No\"].TotalCharges.mean()])\n",
    "plt.show()"
   ]
  },
  {
   "cell_type": "markdown",
   "metadata": {},
   "source": [
    "# Graphs are quite similar as previous ones"
   ]
  },
  {
   "cell_type": "code",
   "execution_count": 17,
   "metadata": {},
   "outputs": [
    {
     "data": {
      "text/plain": [
       "<matplotlib.axes._subplots.AxesSubplot at 0x28923b54e20>"
      ]
     },
     "execution_count": 17,
     "metadata": {},
     "output_type": "execute_result"
    },
    {
     "data": {
      "image/png": "[encoded data removed]",
      "text/plain": [
       "<Figure size 432x288 with 1 Axes>"
      ]
     },
     "metadata": {
      "needs_background": "light"
     },
     "output_type": "display_data"
    }
   ],
   "source": [
    "# Also check for peoples who don't leave\n",
    "shortTenure = peoleWhoNotLeave[peoleWhoNotLeave.tenure <= 10]\n",
    "#len(shortTenure)\n",
    "sb.histplot(shortTenure.InternetService,stat=\"count\",ax=plt.axes(ylabel=\"No of Customers\"))"
   ]
  },
  {
   "cell_type": "markdown",
   "metadata": {},
   "source": [
    "# This is obevous\n",
    "## Less no of peoples who have Fiber optic are staying"
   ]
  },
  {
   "cell_type": "markdown",
   "metadata": {},
   "source": [
    "# Lets also check monthly charges"
   ]
  },
  {
   "cell_type": "code",
   "execution_count": 18,
   "metadata": {},
   "outputs": [
    {
     "data": {
      "image/png": "[encoded data removed]",
      "text/plain": [
       "<Figure size 432x288 with 1 Axes>"
      ]
     },
     "metadata": {
      "needs_background": "light"
     },
     "output_type": "display_data"
    }
   ],
   "source": [
    "\n",
    "plt.ylabel(\"Average Monthly Charges\")\n",
    "plt.bar(x=[\"Fiber optic\",\"DSL\",'No'],height=[peopleWhoLeave[peopleWhoLeave.InternetService == \"Fiber optic\"].MonthlyCharges.mean(),\n",
    "                    peopleWhoLeave[peopleWhoLeave.InternetService == \"DSL\"].MonthlyCharges.mean(),\n",
    "                    peopleWhoLeave[peopleWhoLeave.InternetService == \"No\"].MonthlyCharges.mean()],\n",
    "                  )\n",
    "plt.show()"
   ]
  },
  {
   "cell_type": "markdown",
   "metadata": {},
   "source": [
    "# here also fiber optic have high monthly charges"
   ]
  },
  {
   "cell_type": "code",
   "execution_count": 19,
   "metadata": {},
   "outputs": [
    {
     "data": {
      "image/png": "[encoded data removed]",
      "text/plain": [
       "<Figure size 432x288 with 1 Axes>"
      ]
     },
     "metadata": {
      "needs_background": "light"
     },
     "output_type": "display_data"
    }
   ],
   "source": [
    "plt.ylabel(\"Monthly charges\")\n",
    "plt.xlabel(\"tenure\")\n",
    "plt.bar(x=[\"<= 10\",\" >10 and <= 50\",\"> 50\"],height =[peopleWhoLeave[(peopleWhoLeave.tenure <= 10) & (peopleWhoLeave.InternetService == \"Fiber optic\")].MonthlyCharges.mean(),\n",
    "                     peopleWhoLeave[(peopleWhoLeave.tenure > 10) & (peopleWhoLeave.tenure <= 50) & (peopleWhoLeave.InternetService == \"Fiber optic\")].MonthlyCharges.mean(),\n",
    "                     peopleWhoLeave[(peopleWhoLeave.tenure > 50) & (peopleWhoLeave.InternetService == \"Fiber optic\")].MonthlyCharges.mean()])\n",
    "plt.show()"
   ]
  },
  {
   "cell_type": "markdown",
   "metadata": {},
   "source": [
    "### Although people have short tenure having lowest monthley charges but i feel it is compartively high"
   ]
  },
  {
   "cell_type": "markdown",
   "metadata": {},
   "source": [
    "# Data Preprocessing"
   ]
  },
  {
   "cell_type": "code",
   "execution_count": 20,
   "metadata": {},
   "outputs": [
    {
     "name": "stdout",
     "output_type": "stream",
     "text": [
      "MultipleLines: ['No' 'Yes']\n",
      "InternetService: ['DSL' 'Fiber optic' 'No']\n",
      "OnlineSecurity: ['No' 'Yes']\n",
      "OnlineBackup: ['Yes' 'No']\n",
      "DeviceProtection: ['No' 'Yes']\n",
      "TechSupport: ['No' 'Yes']\n",
      "StreamingTV: ['No' 'Yes']\n",
      "StreamingMovies: ['No' 'Yes']\n",
      "Contract: ['Month-to-month' 'One year' 'Two year']\n",
      "PaperlessBilling: ['Yes' 'No']\n",
      "PaymentMethod: ['Electronic check' 'Mailed check' 'Bank transfer (automatic)'\n",
      " 'Credit card (automatic)']\n"
     ]
    }
   ],
   "source": [
    "PrintUniqueValues()"
   ]
  },
  {
   "cell_type": "code",
   "execution_count": 21,
   "metadata": {},
   "outputs": [],
   "source": [
    "processData = rawData.copy()\n",
    "processData.MultipleLines = rawData.MultipleLines.replace({\"No\":0,\"Yes\":1})\n",
    "processData.OnlineSecurity = rawData.OnlineSecurity.replace({\"No\":0,\"Yes\":1})\n",
    "processData.OnlineBackup = rawData.OnlineBackup.replace({\"No\":0,\"Yes\":1})\n",
    "processData.DeviceProtection = rawData.DeviceProtection.replace({\"No\":0,\"Yes\":1})\n",
    "processData.TechSupport = rawData.TechSupport.replace({\"No\":0,\"Yes\":1})\n",
    "processData.StreamingTV = rawData.StreamingTV.replace({\"No\":0,\"Yes\":1})\n",
    "processData.StreamingMovies = rawData.StreamingMovies.replace({\"No\":0,\"Yes\":1})\n",
    "processData.PaperlessBilling = rawData.PaperlessBilling.replace({\"No\":0,\"Yes\":1})\n",
    "#processData.InternetService = rawData.InternetService.replace({\"No\":0,\"Fiber optic\":1,\"DSL\":2})\n",
    "processData.gender = rawData.gender.replace({\"Female\":0,\"Male\":1})\n",
    "processData.Partner = rawData.Partner.replace({\"No\":0,\"Yes\":1})\n",
    "processData.Dependents = rawData.Dependents.replace({\"No\":0,\"Yes\":1})\n",
    "processData.PhoneService = rawData.PhoneService.replace({\"No\":0,\"Yes\":1})\n",
    "processData.Churn = rawData.Churn.replace({\"No\":0,\"Yes\":1})"
   ]
  },
  {
   "cell_type": "code",
   "execution_count": 22,
   "metadata": {},
   "outputs": [],
   "source": [
    "processData = pd.concat([processData,pd.get_dummies(processData.InternetService),pd.get_dummies(processData.Contract)],axis=1)"
   ]
  },
  {
   "cell_type": "code",
   "execution_count": 23,
   "metadata": {},
   "outputs": [],
   "source": [
    "dropcols = [\"customerID\",\"PaymentMethod\",\"Contract\",\"InternetService\"]\n",
    "processData.drop(dropcols,axis=1,inplace=True)"
   ]
  },
  {
   "cell_type": "code",
   "execution_count": 24,
   "metadata": {},
   "outputs": [],
   "source": [
    "processData.MonthlyCharges = processData.MonthlyCharges/max(processData.MonthlyCharges)\n",
    "processData.TotalCharges = processData.TotalCharges/max(processData.TotalCharges)\n",
    "processData.tenure = processData.tenure/max(processData.tenure)"
   ]
  },
  {
   "cell_type": "code",
   "execution_count": 25,
   "metadata": {},
   "outputs": [
    {
     "data": {
      "text/html": [
       "<div>\n",
       "<style scoped>\n",
       "    .dataframe tbody tr th:only-of-type {\n",
       "        vertical-align: middle;\n",
       "    }\n",
       "\n",
       "    .dataframe tbody tr th {\n",
       "        vertical-align: top;\n",
       "    }\n",
       "\n",
       "    .dataframe thead th {\n",
       "        text-align: right;\n",
       "    }\n",
       "</style>\n",
       "<table border=\"1\" class=\"dataframe\">\n",
       "  <thead>\n",
       "    <tr style=\"text-align: right;\">\n",
       "      <th></th>\n",
       "      <th>gender</th>\n",
       "      <th>SeniorCitizen</th>\n",
       "      <th>Partner</th>\n",
       "      <th>Dependents</th>\n",
       "      <th>tenure</th>\n",
       "      <th>PhoneService</th>\n",
       "      <th>MultipleLines</th>\n",
       "      <th>OnlineSecurity</th>\n",
       "      <th>OnlineBackup</th>\n",
       "      <th>DeviceProtection</th>\n",
       "      <th>...</th>\n",
       "      <th>PaperlessBilling</th>\n",
       "      <th>MonthlyCharges</th>\n",
       "      <th>TotalCharges</th>\n",
       "      <th>Churn</th>\n",
       "      <th>DSL</th>\n",
       "      <th>Fiber optic</th>\n",
       "      <th>No</th>\n",
       "      <th>Month-to-month</th>\n",
       "      <th>One year</th>\n",
       "      <th>Two year</th>\n",
       "    </tr>\n",
       "  </thead>\n",
       "  <tbody>\n",
       "    <tr>\n",
       "      <th>count</th>\n",
       "      <td>7032.000000</td>\n",
       "      <td>7032.000000</td>\n",
       "      <td>7032.000000</td>\n",
       "      <td>7032.000000</td>\n",
       "      <td>7032.000000</td>\n",
       "      <td>7032.000000</td>\n",
       "      <td>7032.000000</td>\n",
       "      <td>7032.000000</td>\n",
       "      <td>7032.000000</td>\n",
       "      <td>7032.000000</td>\n",
       "      <td>...</td>\n",
       "      <td>7032.000000</td>\n",
       "      <td>7032.000000</td>\n",
       "      <td>7032.000000</td>\n",
       "      <td>7032.000000</td>\n",
       "      <td>7032.000000</td>\n",
       "      <td>7032.000000</td>\n",
       "      <td>7032.000000</td>\n",
       "      <td>7032.000000</td>\n",
       "      <td>7032.000000</td>\n",
       "      <td>7032.000000</td>\n",
       "    </tr>\n",
       "    <tr>\n",
       "      <th>mean</th>\n",
       "      <td>0.504693</td>\n",
       "      <td>0.162400</td>\n",
       "      <td>0.482509</td>\n",
       "      <td>0.298493</td>\n",
       "      <td>0.450303</td>\n",
       "      <td>0.903299</td>\n",
       "      <td>0.421928</td>\n",
       "      <td>0.286547</td>\n",
       "      <td>0.344852</td>\n",
       "      <td>0.343857</td>\n",
       "      <td>...</td>\n",
       "      <td>0.592719</td>\n",
       "      <td>0.545669</td>\n",
       "      <td>0.262908</td>\n",
       "      <td>0.265785</td>\n",
       "      <td>0.343572</td>\n",
       "      <td>0.440273</td>\n",
       "      <td>0.216155</td>\n",
       "      <td>0.551052</td>\n",
       "      <td>0.209329</td>\n",
       "      <td>0.239619</td>\n",
       "    </tr>\n",
       "    <tr>\n",
       "      <th>std</th>\n",
       "      <td>0.500014</td>\n",
       "      <td>0.368844</td>\n",
       "      <td>0.499729</td>\n",
       "      <td>0.457629</td>\n",
       "      <td>0.340906</td>\n",
       "      <td>0.295571</td>\n",
       "      <td>0.493902</td>\n",
       "      <td>0.452180</td>\n",
       "      <td>0.475354</td>\n",
       "      <td>0.475028</td>\n",
       "      <td>...</td>\n",
       "      <td>0.491363</td>\n",
       "      <td>0.253356</td>\n",
       "      <td>0.261004</td>\n",
       "      <td>0.441782</td>\n",
       "      <td>0.474934</td>\n",
       "      <td>0.496455</td>\n",
       "      <td>0.411650</td>\n",
       "      <td>0.497422</td>\n",
       "      <td>0.406858</td>\n",
       "      <td>0.426881</td>\n",
       "    </tr>\n",
       "    <tr>\n",
       "      <th>min</th>\n",
       "      <td>0.000000</td>\n",
       "      <td>0.000000</td>\n",
       "      <td>0.000000</td>\n",
       "      <td>0.000000</td>\n",
       "      <td>0.013889</td>\n",
       "      <td>0.000000</td>\n",
       "      <td>0.000000</td>\n",
       "      <td>0.000000</td>\n",
       "      <td>0.000000</td>\n",
       "      <td>0.000000</td>\n",
       "      <td>...</td>\n",
       "      <td>0.000000</td>\n",
       "      <td>0.153684</td>\n",
       "      <td>0.002165</td>\n",
       "      <td>0.000000</td>\n",
       "      <td>0.000000</td>\n",
       "      <td>0.000000</td>\n",
       "      <td>0.000000</td>\n",
       "      <td>0.000000</td>\n",
       "      <td>0.000000</td>\n",
       "      <td>0.000000</td>\n",
       "    </tr>\n",
       "    <tr>\n",
       "      <th>25%</th>\n",
       "      <td>0.000000</td>\n",
       "      <td>0.000000</td>\n",
       "      <td>0.000000</td>\n",
       "      <td>0.000000</td>\n",
       "      <td>0.125000</td>\n",
       "      <td>1.000000</td>\n",
       "      <td>0.000000</td>\n",
       "      <td>0.000000</td>\n",
       "      <td>0.000000</td>\n",
       "      <td>0.000000</td>\n",
       "      <td>...</td>\n",
       "      <td>0.000000</td>\n",
       "      <td>0.299684</td>\n",
       "      <td>0.046224</td>\n",
       "      <td>0.000000</td>\n",
       "      <td>0.000000</td>\n",
       "      <td>0.000000</td>\n",
       "      <td>0.000000</td>\n",
       "      <td>0.000000</td>\n",
       "      <td>0.000000</td>\n",
       "      <td>0.000000</td>\n",
       "    </tr>\n",
       "    <tr>\n",
       "      <th>50%</th>\n",
       "      <td>1.000000</td>\n",
       "      <td>0.000000</td>\n",
       "      <td>0.000000</td>\n",
       "      <td>0.000000</td>\n",
       "      <td>0.402778</td>\n",
       "      <td>1.000000</td>\n",
       "      <td>0.000000</td>\n",
       "      <td>0.000000</td>\n",
       "      <td>0.000000</td>\n",
       "      <td>0.000000</td>\n",
       "      <td>...</td>\n",
       "      <td>1.000000</td>\n",
       "      <td>0.592421</td>\n",
       "      <td>0.160910</td>\n",
       "      <td>0.000000</td>\n",
       "      <td>0.000000</td>\n",
       "      <td>0.000000</td>\n",
       "      <td>0.000000</td>\n",
       "      <td>1.000000</td>\n",
       "      <td>0.000000</td>\n",
       "      <td>0.000000</td>\n",
       "    </tr>\n",
       "    <tr>\n",
       "      <th>75%</th>\n",
       "      <td>1.000000</td>\n",
       "      <td>0.000000</td>\n",
       "      <td>1.000000</td>\n",
       "      <td>1.000000</td>\n",
       "      <td>0.763889</td>\n",
       "      <td>1.000000</td>\n",
       "      <td>1.000000</td>\n",
       "      <td>1.000000</td>\n",
       "      <td>1.000000</td>\n",
       "      <td>1.000000</td>\n",
       "      <td>...</td>\n",
       "      <td>1.000000</td>\n",
       "      <td>0.756737</td>\n",
       "      <td>0.436940</td>\n",
       "      <td>1.000000</td>\n",
       "      <td>1.000000</td>\n",
       "      <td>1.000000</td>\n",
       "      <td>0.000000</td>\n",
       "      <td>1.000000</td>\n",
       "      <td>0.000000</td>\n",
       "      <td>0.000000</td>\n",
       "    </tr>\n",
       "    <tr>\n",
       "      <th>max</th>\n",
       "      <td>1.000000</td>\n",
       "      <td>1.000000</td>\n",
       "      <td>1.000000</td>\n",
       "      <td>1.000000</td>\n",
       "      <td>1.000000</td>\n",
       "      <td>1.000000</td>\n",
       "      <td>1.000000</td>\n",
       "      <td>1.000000</td>\n",
       "      <td>1.000000</td>\n",
       "      <td>1.000000</td>\n",
       "      <td>...</td>\n",
       "      <td>1.000000</td>\n",
       "      <td>1.000000</td>\n",
       "      <td>1.000000</td>\n",
       "      <td>1.000000</td>\n",
       "      <td>1.000000</td>\n",
       "      <td>1.000000</td>\n",
       "      <td>1.000000</td>\n",
       "      <td>1.000000</td>\n",
       "      <td>1.000000</td>\n",
       "      <td>1.000000</td>\n",
       "    </tr>\n",
       "  </tbody>\n",
       "</table>\n",
       "<p>8 rows × 23 columns</p>\n",
       "</div>"
      ],
      "text/plain": [
       "            gender  SeniorCitizen      Partner   Dependents       tenure  \\\n",
       "count  7032.000000    7032.000000  7032.000000  7032.000000  7032.000000   \n",
       "mean      0.504693       0.162400     0.482509     0.298493     0.450303   \n",
       "std       0.500014       0.368844     0.499729     0.457629     0.340906   \n",
       "min       0.000000       0.000000     0.000000     0.000000     0.013889   \n",
       "25%       0.000000       0.000000     0.000000     0.000000     0.125000   \n",
       "50%       1.000000       0.000000     0.000000     0.000000     0.402778   \n",
       "75%       1.000000       0.000000     1.000000     1.000000     0.763889   \n",
       "max       1.000000       1.000000     1.000000     1.000000     1.000000   \n",
       "\n",
       "       PhoneService  MultipleLines  OnlineSecurity  OnlineBackup  \\\n",
       "count   7032.000000    7032.000000     7032.000000   7032.000000   \n",
       "mean       0.903299       0.421928        0.286547      0.344852   \n",
       "std        0.295571       0.493902        0.452180      0.475354   \n",
       "min        0.000000       0.000000        0.000000      0.000000   \n",
       "25%        1.000000       0.000000        0.000000      0.000000   \n",
       "50%        1.000000       0.000000        0.000000      0.000000   \n",
       "75%        1.000000       1.000000        1.000000      1.000000   \n",
       "max        1.000000       1.000000        1.000000      1.000000   \n",
       "\n",
       "       DeviceProtection  ...  PaperlessBilling  MonthlyCharges  TotalCharges  \\\n",
       "count       7032.000000  ...       7032.000000     7032.000000   7032.000000   \n",
       "mean           0.343857  ...          0.592719        0.545669      0.262908   \n",
       "std            0.475028  ...          0.491363        0.253356      0.261004   \n",
       "min            0.000000  ...          0.000000        0.153684      0.002165   \n",
       "25%            0.000000  ...          0.000000        0.299684      0.046224   \n",
       "50%            0.000000  ...          1.000000        0.592421      0.160910   \n",
       "75%            1.000000  ...          1.000000        0.756737      0.436940   \n",
       "max            1.000000  ...          1.000000        1.000000      1.000000   \n",
       "\n",
       "             Churn          DSL  Fiber optic           No  Month-to-month  \\\n",
       "count  7032.000000  7032.000000  7032.000000  7032.000000     7032.000000   \n",
       "mean      0.265785     0.343572     0.440273     0.216155        0.551052   \n",
       "std       0.441782     0.474934     0.496455     0.411650        0.497422   \n",
       "min       0.000000     0.000000     0.000000     0.000000        0.000000   \n",
       "25%       0.000000     0.000000     0.000000     0.000000        0.000000   \n",
       "50%       0.000000     0.000000     0.000000     0.000000        1.000000   \n",
       "75%       1.000000     1.000000     1.000000     0.000000        1.000000   \n",
       "max       1.000000     1.000000     1.000000     1.000000        1.000000   \n",
       "\n",
       "          One year     Two year  \n",
       "count  7032.000000  7032.000000  \n",
       "mean      0.209329     0.239619  \n",
       "std       0.406858     0.426881  \n",
       "min       0.000000     0.000000  \n",
       "25%       0.000000     0.000000  \n",
       "50%       0.000000     0.000000  \n",
       "75%       0.000000     0.000000  \n",
       "max       1.000000     1.000000  \n",
       "\n",
       "[8 rows x 23 columns]"
      ]
     },
     "execution_count": 25,
     "metadata": {},
     "output_type": "execute_result"
    }
   ],
   "source": [
    "processData.describe()"
   ]
  },
  {
   "cell_type": "code",
   "execution_count": 26,
   "metadata": {},
   "outputs": [
    {
     "data": {
      "text/plain": [
       "(7032, 23)"
      ]
     },
     "execution_count": 26,
     "metadata": {},
     "output_type": "execute_result"
    }
   ],
   "source": [
    "processData.shape"
   ]
  },
  {
   "cell_type": "code",
   "execution_count": 27,
   "metadata": {},
   "outputs": [],
   "source": [
    "X = processData.drop(\"Churn\",axis=1)\n",
    "Y = processData.Churn"
   ]
  },
  {
   "cell_type": "code",
   "execution_count": 28,
   "metadata": {},
   "outputs": [],
   "source": [
    "from imblearn.over_sampling import SMOTE"
   ]
  },
  {
   "cell_type": "code",
   "execution_count": 34,
   "metadata": {},
   "outputs": [],
   "source": [
    "sm = SMOTE()\n",
    "x_sample,y_sample = sm.fit_resample(X,Y)"
   ]
  },
  {
   "cell_type": "code",
   "execution_count": 38,
   "metadata": {},
   "outputs": [],
   "source": [
    "from sklearn.model_selection import train_test_split"
   ]
  },
  {
   "cell_type": "code",
   "execution_count": 76,
   "metadata": {},
   "outputs": [],
   "source": [
    "train_x,test_x,train_y,test_y = train_test_split(x_sample,y_sample,test_size=0.4,random_state=10)"
   ]
  },
  {
   "cell_type": "code",
   "execution_count": 77,
   "metadata": {},
   "outputs": [],
   "source": [
    "import tensorflow as tf"
   ]
  },
  {
   "cell_type": "code",
   "execution_count": 78,
   "metadata": {},
   "outputs": [],
   "source": [
    "model = tf.keras.Sequential(\n",
    "    [\n",
    "    tf.keras.layers.Dense(15,input_shape=(22,),activation=\"relu\"),\n",
    "    tf.keras.layers.Dense(10,activation=\"relu\"),\n",
    "    tf.keras.layers.Dense(1,activation=\"sigmoid\")\n",
    "    ]\n",
    ")"
   ]
  },
  {
   "cell_type": "code",
   "execution_count": 79,
   "metadata": {},
   "outputs": [],
   "source": [
    "model.compile(optimizer=\"adam\",loss=\"binary_crossentropy\",metrics=\"accuracy\")"
   ]
  },
  {
   "cell_type": "code",
   "execution_count": 85,
   "metadata": {
    "scrolled": true
   },
   "outputs": [
    {
     "name": "stdout",
     "output_type": "stream",
     "text": [
      "Epoch 1/100\n",
      "194/194 [==============================] - 0s 933us/step - loss: 0.4000 - accuracy: 0.8119\n",
      "Epoch 2/100\n",
      "194/194 [==============================] - 0s 912us/step - loss: 0.3997 - accuracy: 0.8145\n",
      "Epoch 3/100\n",
      "194/194 [==============================] - 0s 923us/step - loss: 0.3979 - accuracy: 0.8178\n",
      "Epoch 4/100\n",
      "194/194 [==============================] - 0s 912us/step - loss: 0.3975 - accuracy: 0.8179\n",
      "Epoch 5/100\n",
      "194/194 [==============================] - 0s 918us/step - loss: 0.3970 - accuracy: 0.8149\n",
      "Epoch 6/100\n",
      "194/194 [==============================] - 0s 928us/step - loss: 0.3975 - accuracy: 0.8182\n",
      "Epoch 7/100\n",
      "194/194 [==============================] - 0s 912us/step - loss: 0.3984 - accuracy: 0.8199\n",
      "Epoch 8/100\n",
      "194/194 [==============================] - 0s 897us/step - loss: 0.3974 - accuracy: 0.8137\n",
      "Epoch 9/100\n",
      "194/194 [==============================] - 0s 912us/step - loss: 0.3966 - accuracy: 0.8205\n",
      "Epoch 10/100\n",
      "194/194 [==============================] - 0s 990us/step - loss: 0.3971 - accuracy: 0.8161\n",
      "Epoch 11/100\n",
      "194/194 [==============================] - 0s 1ms/step - loss: 0.3969 - accuracy: 0.8163\n",
      "Epoch 12/100\n",
      "194/194 [==============================] - 0s 985us/step - loss: 0.3961 - accuracy: 0.8195\n",
      "Epoch 13/100\n",
      "194/194 [==============================] - 0s 918us/step - loss: 0.3957 - accuracy: 0.8199\n",
      "Epoch 14/100\n",
      "194/194 [==============================] - 0s 928us/step - loss: 0.3962 - accuracy: 0.8195\n",
      "Epoch 15/100\n",
      "194/194 [==============================] - 0s 923us/step - loss: 0.3967 - accuracy: 0.8166\n",
      "Epoch 16/100\n",
      "194/194 [==============================] - 0s 923us/step - loss: 0.3951 - accuracy: 0.8171\n",
      "Epoch 17/100\n",
      "194/194 [==============================] - 0s 923us/step - loss: 0.3956 - accuracy: 0.8155\n",
      "Epoch 18/100\n",
      "194/194 [==============================] - 0s 938us/step - loss: 0.3947 - accuracy: 0.8178\n",
      "Epoch 19/100\n",
      "194/194 [==============================] - 0s 928us/step - loss: 0.3952 - accuracy: 0.8190\n",
      "Epoch 20/100\n",
      "194/194 [==============================] - 0s 938us/step - loss: 0.3933 - accuracy: 0.8186\n",
      "Epoch 21/100\n",
      "194/194 [==============================] - 0s 923us/step - loss: 0.3942 - accuracy: 0.8173\n",
      "Epoch 22/100\n",
      "194/194 [==============================] - 0s 943us/step - loss: 0.3936 - accuracy: 0.8173\n",
      "Epoch 23/100\n",
      "194/194 [==============================] - 0s 933us/step - loss: 0.3925 - accuracy: 0.8181\n",
      "Epoch 24/100\n",
      "194/194 [==============================] - 0s 938us/step - loss: 0.3925 - accuracy: 0.8202\n",
      "Epoch 25/100\n",
      "194/194 [==============================] - 0s 949us/step - loss: 0.3926 - accuracy: 0.8245\n",
      "Epoch 26/100\n",
      "194/194 [==============================] - 0s 907us/step - loss: 0.3935 - accuracy: 0.8200\n",
      "Epoch 27/100\n",
      "194/194 [==============================] - 0s 949us/step - loss: 0.3929 - accuracy: 0.8197\n",
      "Epoch 28/100\n",
      "194/194 [==============================] - 0s 918us/step - loss: 0.3917 - accuracy: 0.8195\n",
      "Epoch 29/100\n",
      "194/194 [==============================] - 0s 928us/step - loss: 0.3912 - accuracy: 0.8205\n",
      "Epoch 30/100\n",
      "194/194 [==============================] - 0s 959us/step - loss: 0.3924 - accuracy: 0.8179\n",
      "Epoch 31/100\n",
      "194/194 [==============================] - 0s 949us/step - loss: 0.3914 - accuracy: 0.8200\n",
      "Epoch 32/100\n",
      "194/194 [==============================] - 0s 933us/step - loss: 0.3909 - accuracy: 0.8223\n",
      "Epoch 33/100\n",
      "194/194 [==============================] - 0s 918us/step - loss: 0.3919 - accuracy: 0.8192\n",
      "Epoch 34/100\n",
      "194/194 [==============================] - 0s 928us/step - loss: 0.3921 - accuracy: 0.8190\n",
      "Epoch 35/100\n",
      "194/194 [==============================] - 0s 928us/step - loss: 0.3910 - accuracy: 0.8213\n",
      "Epoch 36/100\n",
      "194/194 [==============================] - 0s 933us/step - loss: 0.3902 - accuracy: 0.8232\n",
      "Epoch 37/100\n",
      "194/194 [==============================] - 0s 938us/step - loss: 0.3897 - accuracy: 0.8226\n",
      "Epoch 38/100\n",
      "194/194 [==============================] - 0s 928us/step - loss: 0.3902 - accuracy: 0.8234\n",
      "Epoch 39/100\n",
      "194/194 [==============================] - 0s 928us/step - loss: 0.3919 - accuracy: 0.8179\n",
      "Epoch 40/100\n",
      "194/194 [==============================] - 0s 938us/step - loss: 0.3897 - accuracy: 0.8241\n",
      "Epoch 41/100\n",
      "194/194 [==============================] - 0s 933us/step - loss: 0.3882 - accuracy: 0.8216\n",
      "Epoch 42/100\n",
      "194/194 [==============================] - 0s 928us/step - loss: 0.3894 - accuracy: 0.8234\n",
      "Epoch 43/100\n",
      "194/194 [==============================] - 0s 928us/step - loss: 0.3879 - accuracy: 0.8239\n",
      "Epoch 44/100\n",
      "194/194 [==============================] - 0s 943us/step - loss: 0.3898 - accuracy: 0.8241\n",
      "Epoch 45/100\n",
      "194/194 [==============================] - 0s 933us/step - loss: 0.3896 - accuracy: 0.8241\n",
      "Epoch 46/100\n",
      "194/194 [==============================] - 0s 938us/step - loss: 0.3880 - accuracy: 0.8223\n",
      "Epoch 47/100\n",
      "194/194 [==============================] - 0s 949us/step - loss: 0.3880 - accuracy: 0.8249\n",
      "Epoch 48/100\n",
      "194/194 [==============================] - 0s 943us/step - loss: 0.3893 - accuracy: 0.8229\n",
      "Epoch 49/100\n",
      "194/194 [==============================] - 0s 964us/step - loss: 0.3887 - accuracy: 0.8239\n",
      "Epoch 50/100\n",
      "194/194 [==============================] - 0s 954us/step - loss: 0.3881 - accuracy: 0.8253\n",
      "Epoch 51/100\n",
      "194/194 [==============================] - 0s 954us/step - loss: 0.3880 - accuracy: 0.8232\n",
      "Epoch 52/100\n",
      "194/194 [==============================] - 0s 933us/step - loss: 0.3871 - accuracy: 0.8249\n",
      "Epoch 53/100\n",
      "194/194 [==============================] - 0s 933us/step - loss: 0.3876 - accuracy: 0.8241\n",
      "Epoch 54/100\n",
      "194/194 [==============================] - 0s 943us/step - loss: 0.3873 - accuracy: 0.8226\n",
      "Epoch 55/100\n",
      "194/194 [==============================] - 0s 938us/step - loss: 0.3873 - accuracy: 0.8284\n",
      "Epoch 56/100\n",
      "194/194 [==============================] - 0s 923us/step - loss: 0.3881 - accuracy: 0.8237\n",
      "Epoch 57/100\n",
      "194/194 [==============================] - 0s 923us/step - loss: 0.3873 - accuracy: 0.8210\n",
      "Epoch 58/100\n",
      "194/194 [==============================] - 0s 943us/step - loss: 0.3862 - accuracy: 0.8255\n",
      "Epoch 59/100\n",
      "194/194 [==============================] - 0s 938us/step - loss: 0.3864 - accuracy: 0.8241\n",
      "Epoch 60/100\n",
      "194/194 [==============================] - 0s 938us/step - loss: 0.3861 - accuracy: 0.8242\n",
      "Epoch 61/100\n",
      "194/194 [==============================] - 0s 959us/step - loss: 0.3866 - accuracy: 0.8249\n",
      "Epoch 62/100\n",
      "194/194 [==============================] - 0s 918us/step - loss: 0.3864 - accuracy: 0.8258\n",
      "Epoch 63/100\n",
      "194/194 [==============================] - 0s 928us/step - loss: 0.3849 - accuracy: 0.8268\n",
      "Epoch 64/100\n",
      "194/194 [==============================] - 0s 943us/step - loss: 0.3865 - accuracy: 0.8231\n",
      "Epoch 65/100\n",
      "194/194 [==============================] - 0s 1ms/step - loss: 0.3862 - accuracy: 0.8253\n",
      "Epoch 66/100\n",
      "194/194 [==============================] - 0s 933us/step - loss: 0.3836 - accuracy: 0.8236\n",
      "Epoch 67/100\n",
      "194/194 [==============================] - 0s 954us/step - loss: 0.3851 - accuracy: 0.8231\n",
      "Epoch 68/100\n",
      "194/194 [==============================] - 0s 928us/step - loss: 0.3839 - accuracy: 0.8245\n",
      "Epoch 69/100\n",
      "194/194 [==============================] - 0s 938us/step - loss: 0.3831 - accuracy: 0.8299\n",
      "Epoch 70/100\n",
      "194/194 [==============================] - 0s 964us/step - loss: 0.3851 - accuracy: 0.8232\n",
      "Epoch 71/100\n",
      "194/194 [==============================] - 0s 918us/step - loss: 0.3859 - accuracy: 0.8236\n",
      "Epoch 72/100\n",
      "194/194 [==============================] - 0s 938us/step - loss: 0.3846 - accuracy: 0.8249\n",
      "Epoch 73/100\n",
      "194/194 [==============================] - 0s 949us/step - loss: 0.3838 - accuracy: 0.8273\n",
      "Epoch 74/100\n",
      "194/194 [==============================] - 0s 933us/step - loss: 0.3854 - accuracy: 0.8245\n",
      "Epoch 75/100\n",
      "194/194 [==============================] - 0s 938us/step - loss: 0.3852 - accuracy: 0.8257\n",
      "Epoch 76/100\n",
      "194/194 [==============================] - 0s 959us/step - loss: 0.3838 - accuracy: 0.8263\n",
      "Epoch 77/100\n",
      "194/194 [==============================] - 0s 954us/step - loss: 0.3848 - accuracy: 0.8266\n",
      "Epoch 78/100\n",
      "194/194 [==============================] - 0s 933us/step - loss: 0.3834 - accuracy: 0.8242\n",
      "Epoch 79/100\n"
     ]
    },
    {
     "name": "stdout",
     "output_type": "stream",
     "text": [
      "194/194 [==============================] - 0s 943us/step - loss: 0.3818 - accuracy: 0.8252\n",
      "Epoch 80/100\n",
      "194/194 [==============================] - 0s 907us/step - loss: 0.3830 - accuracy: 0.8250\n",
      "Epoch 81/100\n",
      "194/194 [==============================] - 0s 902us/step - loss: 0.3840 - accuracy: 0.8221\n",
      "Epoch 82/100\n",
      "194/194 [==============================] - 0s 902us/step - loss: 0.3823 - accuracy: 0.8239\n",
      "Epoch 83/100\n",
      "194/194 [==============================] - 0s 938us/step - loss: 0.3807 - accuracy: 0.8255\n",
      "Epoch 84/100\n",
      "194/194 [==============================] - 0s 990us/step - loss: 0.3839 - accuracy: 0.8257\n",
      "Epoch 85/100\n",
      "194/194 [==============================] - 0s 985us/step - loss: 0.3826 - accuracy: 0.8286\n",
      "Epoch 86/100\n",
      "194/194 [==============================] - 0s 990us/step - loss: 0.3822 - accuracy: 0.8268\n",
      "Epoch 87/100\n",
      "194/194 [==============================] - 0s 1ms/step - loss: 0.3825 - accuracy: 0.8242\n",
      "Epoch 88/100\n",
      "194/194 [==============================] - 0s 959us/step - loss: 0.3841 - accuracy: 0.8237\n",
      "Epoch 89/100\n",
      "194/194 [==============================] - 0s 933us/step - loss: 0.3830 - accuracy: 0.8244\n",
      "Epoch 90/100\n",
      "194/194 [==============================] - 0s 964us/step - loss: 0.3822 - accuracy: 0.8276\n",
      "Epoch 91/100\n",
      "194/194 [==============================] - 0s 949us/step - loss: 0.3824 - accuracy: 0.8260\n",
      "Epoch 92/100\n",
      "194/194 [==============================] - 0s 938us/step - loss: 0.3805 - accuracy: 0.8310\n",
      "Epoch 93/100\n",
      "194/194 [==============================] - 0s 954us/step - loss: 0.3820 - accuracy: 0.8276\n",
      "Epoch 94/100\n",
      "194/194 [==============================] - 0s 943us/step - loss: 0.3823 - accuracy: 0.8232\n",
      "Epoch 95/100\n",
      "194/194 [==============================] - 0s 933us/step - loss: 0.3832 - accuracy: 0.8253\n",
      "Epoch 96/100\n",
      "194/194 [==============================] - 0s 923us/step - loss: 0.3810 - accuracy: 0.8260\n",
      "Epoch 97/100\n",
      "194/194 [==============================] - 0s 954us/step - loss: 0.3813 - accuracy: 0.8266\n",
      "Epoch 98/100\n",
      "194/194 [==============================] - 0s 943us/step - loss: 0.3807 - accuracy: 0.8284\n",
      "Epoch 99/100\n",
      "194/194 [==============================] - 0s 949us/step - loss: 0.3813 - accuracy: 0.8282\n",
      "Epoch 100/100\n",
      "194/194 [==============================] - 0s 918us/step - loss: 0.3798 - accuracy: 0.8278\n"
     ]
    },
    {
     "data": {
      "text/plain": [
       "<tensorflow.python.keras.callbacks.History at 0x28937542430>"
      ]
     },
     "execution_count": 85,
     "metadata": {},
     "output_type": "execute_result"
    }
   ],
   "source": [
    "model.fit(train_x,train_y,epochs=100)"
   ]
  },
  {
   "cell_type": "code",
   "execution_count": 91,
   "metadata": {},
   "outputs": [],
   "source": [
    "from sklearn.metrics import confusion_matrix,accuracy_score,classification_report"
   ]
  },
  {
   "cell_type": "code",
   "execution_count": 87,
   "metadata": {},
   "outputs": [],
   "source": [
    "y_pred = model.predict_classes(test_x)"
   ]
  },
  {
   "cell_type": "code",
   "execution_count": 88,
   "metadata": {},
   "outputs": [
    {
     "data": {
      "text/plain": [
       "array([[1574,  459],\n",
       "       [ 407, 1691]], dtype=int64)"
      ]
     },
     "execution_count": 88,
     "metadata": {},
     "output_type": "execute_result"
    }
   ],
   "source": [
    "confusion_matrix(test_y,y_pred)"
   ]
  },
  {
   "cell_type": "code",
   "execution_count": 89,
   "metadata": {},
   "outputs": [
    {
     "data": {
      "text/plain": [
       "0.7903655289276205"
      ]
     },
     "execution_count": 89,
     "metadata": {},
     "output_type": "execute_result"
    }
   ],
   "source": [
    "accuracy_score(test_y,y_pred)"
   ]
  },
  {
   "cell_type": "code",
   "execution_count": 94,
   "metadata": {},
   "outputs": [
    {
     "name": "stdout",
     "output_type": "stream",
     "text": [
      "              precision    recall  f1-score   support\n",
      "\n",
      "           0       0.79      0.77      0.78      2033\n",
      "           1       0.79      0.81      0.80      2098\n",
      "\n",
      "    accuracy                           0.79      4131\n",
      "   macro avg       0.79      0.79      0.79      4131\n",
      "weighted avg       0.79      0.79      0.79      4131\n",
      "\n"
     ]
    }
   ],
   "source": [
    "print(classification_report(test_y,y_pred))"
   ]
  },
  {
   "cell_type": "markdown",
   "metadata": {},
   "source": [
    "# Got Accuracy of 79%, not bad"
   ]
  },
  {
   "cell_type": "code",
   "execution_count": null,
   "metadata": {},
   "outputs": [],
   "source": []
  },
  {
   "cell_type": "code",
   "execution_count": null,
   "metadata": {},
   "outputs": [],
   "source": []
  }
 ],
 "metadata": {
  "kernelspec": {
   "display_name": "Python 3",
   "language": "python",
   "name": "python3"
  },
  "language_info": {
   "codemirror_mode": {
    "name": "ipython",
    "version": 3
   },
   "file_extension": ".py",
   "mimetype": "text/x-python",
   "name": "python",
   "nbconvert_exporter": "python",
   "pygments_lexer": "ipython3",
   "version": "3.8.3"
  }
 },
 "nbformat": 4,
 "nbformat_minor": 4
}
